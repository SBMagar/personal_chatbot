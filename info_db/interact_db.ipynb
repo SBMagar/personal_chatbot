{
 "cells": [
  {
   "cell_type": "markdown",
   "source": [
    "In command line:\n",
    "\n",
    "#launch sqlite command line tool & create database called infoDB\n",
    "sqlite3 infoDB   \n",
    "\n",
    "# tab-delimted file\n",
    ".separator \"\\t\"\n",
    "\n",
    "# some times mode need to be updated\n",
    ".mode csv\n",
    "\n",
    "# create new table called \"info\" w/ the content from our tsv\n",
    ".import info.csv info"
   ],
   "metadata": {}
  },
  {
   "cell_type": "code",
   "execution_count": 24,
   "source": [
    "import sqlite3\n",
    "import random"
   ],
   "outputs": [],
   "metadata": {}
  },
  {
   "cell_type": "code",
   "execution_count": 53,
   "source": [
    "def create_connection(db_file):\n",
    "    \"\"\" create a database connection to the SQLite database\n",
    "        specified by the db_file\n",
    "    :param db_file: database file\n",
    "    :return: Connection object or None\n",
    "    \"\"\"\n",
    "    conn = None\n",
    "    try:\n",
    "        conn = sqlite3.connect(db_file)\n",
    "    except Error as e:\n",
    "        print(e)\n",
    "\n",
    "    return conn\n",
    "\n",
    "def select_by_slot(conn, slot_name, slot_value):\n",
    "    \"\"\"\n",
    "    Query all rows in the tasks table\n",
    "    :param conn: the Connection object\n",
    "    :return:\n",
    "    \"\"\"\n",
    "    cur = conn.cursor()\n",
    "    cur.execute(f\"\"\"SELECT * FROM info\n",
    "                WHERE {slot_name}='{slot_value}'\"\"\")\n",
    "\n",
    "    rows = cur.fetchall()\n",
    "\n",
    "    if len(list(rows)) < 1:\n",
    "        print(\"There is no info matching your query.\")\n",
    "    else:\n",
    "        for row in random.sample(rows, 1):\n",
    "            print(f\"You can go through a {row[4].lower()} about '{row[0]}' by {row[1]}. You can find it at {row[2]}.\")"
   ],
   "outputs": [],
   "metadata": {}
  },
  {
   "cell_type": "code",
   "execution_count": 68,
   "source": [
    "select_by_slot(create_connection(\"infoDB\"), slot_name=\"Type\", slot_value=\"Work\")"
   ],
   "outputs": [
    {
     "output_type": "stream",
     "name": "stdout",
     "text": [
      "You can go through a work about 'Django/Plotly dashsensors data' by Anonymous Budhathoki. You can find it at https://www.budhathokisagar.com.np/works/1/.\n"
     ]
    }
   ],
   "metadata": {}
  },
  {
   "cell_type": "code",
   "execution_count": null,
   "source": [
    "# This files contains your custom actions which can be used to run\n",
    "# custom Python code.\n",
    "#\n",
    "# See this guide on how to implement these action:\n",
    "# https://rasa.com/docs/rasa/custom-actions\n",
    "\n",
    "\n",
    "# This is a simple example for a custom action which utters \"Hello World!\"\n",
    "\n",
    "from typing import Any, Text, Dict, List\n",
    "\n",
    "from rasa_sdk import Action, Tracker\n",
    "from rasa_sdk.executor import CollectingDispatcher\n",
    "\n",
    "import sqlite3\n",
    "import random\n",
    "\n",
    "\n",
    "class QueryInfoType(Action):\n",
    "\n",
    "    def name(self) -> Text:\n",
    "        return \"query_info_type\"\n",
    "\n",
    "    def run(self, dispatcher: CollectingDispatcher,\n",
    "            tracker: Tracker,\n",
    "            domain: Dict[Text, Any]) -> List[Dict[Text, Any]]:\n",
    "\n",
    "        conn = create_connection(self, db_file=\"../info_db/info\")\n",
    "\n",
    "        slot_value = tracker.get_slot(\"info_type\")\n",
    "        slot_name = \"Type\"\n",
    "\n",
    "        get_query_results = select_by_slot(self, conn=conn,\n",
    "            slot_name=slot_name,slot_value=slot_value)\n",
    "        dispatcher.utter_message(text=get_query_results)\n",
    "\n",
    "        return []\n",
    "\n",
    "    def create_connection(db_file):\n",
    "        \"\"\" create a database connection to the SQLite database\n",
    "            specified by the db_file\n",
    "        :param db_file: database file\n",
    "        :return: Connection object or None\n",
    "        \"\"\"\n",
    "        conn = None\n",
    "        try:\n",
    "            conn = sqlite3.connect(db_file)\n",
    "        except Error as e:\n",
    "            print(e)\n",
    "\n",
    "        return conn\n",
    "\n",
    "    def select_by_slot(conn, slot_name, slot_value):\n",
    "        \"\"\"\n",
    "        Query all rows in the tasks table\n",
    "        :param conn: the Connection object\n",
    "        :return:\n",
    "        \"\"\"\n",
    "        cur = conn.cursor()\n",
    "        cur.execute(f\"\"\"SELECT * FROM info\n",
    "                    WHERE {slot_name}='{slot_value}'\"\"\")\n",
    "\n",
    "        rows = cur.fetchall()\n",
    "\n",
    "        if len(list(rows)) < 1:\n",
    "            return[(\"There are no info matching your query.\")]\n",
    "        else:\n",
    "            for row in random.sample(rows, 1):\n",
    "                return[print(f\"Try the {(row[4]).lower()} {row[0]} by {row[1]}. You can find it at {row[2]}.\")]"
   ],
   "outputs": [],
   "metadata": {}
  },
  {
   "cell_type": "code",
   "execution_count": null,
   "source": [
    "# from: https://techoverflow.net/2019/10/14/how-to-list-tables-in-sqlite3-database-in-python/\n",
    "def tables_in_sqlite_db(conn):\n",
    "    cursor = conn.execute(\"SELECT name FROM sqlite_master WHERE type='table';\")\n",
    "    tables = [\n",
    "        v[0] for v in cursor.fetchall()\n",
    "        if v[0] != \"sqlite_sequence\"\n",
    "    ]\n",
    "    cursor.close()\n",
    "    return tables"
   ],
   "outputs": [],
   "metadata": {}
  },
  {
   "cell_type": "code",
   "execution_count": null,
   "source": [
    "\n",
    "conn = QueryResourceType.create_connection(\"../infoDB\")\n",
    "print(tables_in_sqlite_db(conn))"
   ],
   "outputs": [],
   "metadata": {}
  },
  {
   "cell_type": "markdown",
   "source": [
    "some testing for rasa project:\n",
    "   rasa data validate\n",
    "   rasa test nlu\n",
    "   rasa data split nlu\n",
    "   rasa test nlu -u train_test_split/test_data.yml\n",
    "   rasa train nlu\n",
    "   rasa test nlu -m models/nlu-20210731-022226.tar.gz -u train_test_split/test_data.yml "
   ],
   "metadata": {}
  }
 ],
 "metadata": {
  "orig_nbformat": 4,
  "language_info": {
   "name": "python",
   "version": "3.9.6",
   "mimetype": "text/x-python",
   "codemirror_mode": {
    "name": "ipython",
    "version": 3
   },
   "pygments_lexer": "ipython3",
   "nbconvert_exporter": "python",
   "file_extension": ".py"
  },
  "kernelspec": {
   "name": "python3",
   "display_name": "Python 3.9.6 64-bit"
  },
  "interpreter": {
   "hash": "36cf16204b8548560b1c020c4e8fb5b57f0e4c58016f52f2d4be01e192833930"
  }
 },
 "nbformat": 4,
 "nbformat_minor": 2
}